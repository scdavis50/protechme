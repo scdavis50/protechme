{
 "cells": [
  {
   "cell_type": "code",
   "execution_count": 1,
   "metadata": {
    "collapsed": true
   },
   "outputs": [],
   "source": [
    "import smtplib\n",
    "from email.mime.multipart import MIMEMultipart\n",
    "from email.mime.application import MIMEApplication\n",
    "from email.mime.base import MIMEBase\n",
    "from email.mime.text import MIMEText\n",
    "from email import encoders"
   ]
  },
  {
   "cell_type": "code",
   "execution_count": 2,
   "metadata": {
    "collapsed": false
   },
   "outputs": [
    {
     "data": {
      "text/plain": [
       "(235, b'2.7.0 Accepted')"
      ]
     },
     "execution_count": 2,
     "metadata": {},
     "output_type": "execute_result"
    }
   ],
   "source": [
    "smtpObj = smtplib.SMTP('smtp.gmail.com', 587)\n",
    "smtpObj.starttls()\n",
    "smtpObj.ehlo()\n",
    "smtpObj.login('marinathechatbot38@gmail.com', \"MarinaIsOurChatbot\")"
   ]
  },
  {
   "cell_type": "code",
   "execution_count": 3,
   "metadata": {
    "collapsed": false
   },
   "outputs": [
    {
     "data": {
      "text/plain": [
       "{}"
      ]
     },
     "execution_count": 3,
     "metadata": {},
     "output_type": "execute_result"
    }
   ],
   "source": [
    "Applicant_Name = \"Marina Chatbot\"\n",
    "\n",
    "message = MIMEMultipart()\n",
    "message['Subject'] = \"Protective Order Application: \" + Applicant_Name\n",
    "message['From'] = 'marinathechatbot38@gmail.com'\n",
    "message['Reply-to'] = 'marinathechatbot38@gmail.com'\n",
    "message['To'] = 'scdavis50@gmail.com'\n",
    "\n",
    "text = MIMEText(\"Here is the completed PO application for: \" + Applicant_Name)\n",
    "message.attach(text)\n",
    "\n",
    "with open(\"C:\\\\Users\\\\karin\\\\Documents\\\\GitHub\\\\protechme\\\\po_application_complete.pdf\", \"rb\") as opened:\n",
    "    openedfile = opened.read()\n",
    "attachedfile = MIMEApplication(openedfile, _subtype = \"pdf\")\n",
    "attachedfile.add_header('content-disposition', 'attachment', filename = \"poapplication\" + Applicant_Name + \".pdf\")\n",
    "message.attach(attachedfile)\n",
    "smtpObj.sendmail(message['From'], message['To'], message.as_string())\n"
   ]
  },
  {
   "cell_type": "code",
   "execution_count": 4,
   "metadata": {
    "collapsed": false
   },
   "outputs": [
    {
     "data": {
      "text/plain": [
       "{}"
      ]
     },
     "execution_count": 4,
     "metadata": {},
     "output_type": "execute_result"
    }
   ],
   "source": [
    "Applicant_Name = \"Marina Chatbot\"\n",
    "\n",
    "message = MIMEMultipart()\n",
    "message['Subject'] = \"Ex Parte Order: \" + Applicant_Name\n",
    "message['From'] = 'marinathechatbot38@gmail.com'\n",
    "message['Reply-to'] = 'marinathechatbot38@gmail.com'\n",
    "message['To'] = 'scdavis50@gmail.com'\n",
    "\n",
    "text = MIMEText(\"Here is the completed Temporary Exparte Order for: \" + Applicant_Name)\n",
    "message.attach(text)\n",
    "\n",
    "with open(\"C:\\\\Users\\\\karin\\\\Documents\\\\GitHub\\\\protechme\\\\temporary_exparteorder_complete.pdf\", \"rb\") as opened:\n",
    "    openedfile = opened.read()\n",
    "attachedfile = MIMEApplication(openedfile, _subtype = \"pdf\")\n",
    "attachedfile.add_header('content-disposition', 'attachment', filename = \"tempexparte_\" + Applicant_Name + \".pdf\")\n",
    "message.attach(attachedfile)\n",
    "smtpObj.sendmail(message['From'], message['To'], message.as_string())\n"
   ]
  },
  {
   "cell_type": "code",
   "execution_count": 5,
   "metadata": {
    "collapsed": false
   },
   "outputs": [
    {
     "data": {
      "text/plain": [
       "(221, b'2.0.0 closing connection l14-v6sm1996919ywi.35 - gsmtp')"
      ]
     },
     "execution_count": 5,
     "metadata": {},
     "output_type": "execute_result"
    }
   ],
   "source": [
    "smtpObj.quit()"
   ]
  }
 ],
 "metadata": {
  "kernelspec": {
   "display_name": "Python 3",
   "language": "python",
   "name": "python3"
  },
  "language_info": {
   "codemirror_mode": {
    "name": "ipython",
    "version": 3
   },
   "file_extension": ".py",
   "mimetype": "text/x-python",
   "name": "python",
   "nbconvert_exporter": "python",
   "pygments_lexer": "ipython3",
   "version": "3.6.0"
  }
 },
 "nbformat": 4,
 "nbformat_minor": 2
}
